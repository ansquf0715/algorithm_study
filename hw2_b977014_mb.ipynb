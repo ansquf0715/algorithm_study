{
  "nbformat": 4,
  "nbformat_minor": 0,
  "metadata": {
    "colab": {
      "name": "hw2_b977014_mb.ipynb",
      "provenance": [],
      "collapsed_sections": []
    },
    "kernelspec": {
      "name": "python3",
      "display_name": "Python 3"
    },
    "language_info": {
      "name": "python"
    }
  },
  "cells": [
    {
      "cell_type": "markdown",
      "source": [
        "#1"
      ],
      "metadata": {
        "id": "7SotoXTbRNdw"
      }
    },
    {
      "cell_type": "code",
      "execution_count": null,
      "metadata": {
        "id": "4RmoZEK5QyVM"
      },
      "outputs": [],
      "source": [
        "class ListNode:\n",
        "    def __init__(self, newItem, nextNode:'ListNode'):\n",
        "        self.item=newItem\n",
        "        self.next=nextNode\n",
        "        \n",
        "class LinkedListBasic:\n",
        "    def __init__(self):\n",
        "        self.__head = ListNode('dummy',None)\n",
        "        self.__numItems=0\n",
        "            \n",
        "    def append(self, newItem):\n",
        "        prev = self.__getNode(self.__numItems-1)\n",
        "        newNode = ListNode(newItem, prev.next)\n",
        "        prev.next = newNode\n",
        "        self.__numItems += 1\n",
        "        \n",
        "    def pop_hw(self, i:int, k:int): #과제 적용 함수\n",
        "\n",
        "        if((self.__numItems-1)- i >= k): #i번 index 뒤로 (i번을 포함해) k개의 노드가 있다면\n",
        "            for j in range(i,(i+k)): #i번 index부터 k개 뒤까지의 노드가 나올 때 까지\n",
        "                prev = self.__getNode(i-1)  #i번 index의 노드를 없앰\n",
        "                curr = prev.next \n",
        "                prev.next = curr.next \n",
        "                self.__numItems -= 1 #노드를 제거했으므로 numItems의 값을 감소시킴\n",
        "        elif((self.__numItems-1)-i<k): #i번 index 뒤로 (i번을 포함해) k개의 노드가 없다면\n",
        "            for j in range (i,(self.__numItems)): #i번 index의 노드부터 리스트의 맨 마지막 노드가 나올 때 까지\n",
        "                prev = self.__getNode(i-1) #i번 index의 노드를 없앰\n",
        "                curr = prev.next\n",
        "                prev.next = curr.next\n",
        "                self.__numItems -= 1 #노드를 제거했으므로 numItems의 값을 감소시킴\n",
        "\n",
        "    def size(self):\n",
        "        return self.__numItems\n",
        "\n",
        "    def __getNode(self, i:int):\n",
        "        curr = self.__head\n",
        "        for index in range(i+1):\n",
        "            curr= curr.next\n",
        "        return curr\n",
        "    \n",
        "    def printList(self):\n",
        "        curr = self.__head.next\n",
        "        while curr != None:\n",
        "            print(curr.item, end = ' ')\n",
        "            curr = curr.next\n",
        "        print()\n",
        "        "
      ]
    },
    {
      "cell_type": "code",
      "source": [
        "a=LinkedListBasic()\n",
        "a.append(1)\n",
        "a.append(2)\n",
        "a.append('test')\n",
        "a.append(3)\n",
        "a.append(4)\n",
        "a.append(5)\n",
        "a.append('algorithm')\n",
        "a.printList()\n",
        "a.pop_hw(2,2)\n",
        "a.printList()\n",
        "a.pop_hw(3,7)\n",
        "a.printList()\n",
        "a.pop_hw(1,1)\n",
        "a.printList()\n",
        "print(a.size())"
      ],
      "metadata": {
        "id": "7Xh2bosoQ5Kj"
      },
      "execution_count": null,
      "outputs": []
    },
    {
      "cell_type": "markdown",
      "source": [
        "append를 사용해 각각의 값들을 list에 넣어준 후,\n",
        "남은 노드가 k개가 되는 경우,\n",
        "k개가 안되는 경우,\n",
        "pop(index,1)일 경우 기존의 pop처럼 동작하는지,\n",
        "size()를 이용해 삭제 후 남은 리스트의 값이 맞는지 확인했다"
      ],
      "metadata": {
        "id": "wSgwymwjRJxQ"
      }
    },
    {
      "cell_type": "markdown",
      "source": [
        "#2"
      ],
      "metadata": {
        "id": "TJTXG1H61nRh"
      }
    },
    {
      "cell_type": "code",
      "source": [
        "class BidirectNode:\n",
        "  def __init__(self, x, prevNode:'BidirectNode', nextNode: 'BidirectNode'):\n",
        "    self.item = x\n",
        "    self.prev = prevNode\n",
        "    self.next = nextNode\n",
        "\n",
        "class CircularDoublyLinkedList:\n",
        "  def __init__(self):\n",
        "    self.__head = BidirectNode(\"dummy\", None, None)\n",
        "    self.__head.prev = self.__head\n",
        "    self.__head.next = self.__head\n",
        "    self.__numItems = 0\n",
        "    \n",
        "  def insert(self,i:int,newItem):\n",
        "      if(i>=0 and i<=self.__numItems):\n",
        "          prev = self.getNode(i-1)\n",
        "          newNode = BidirectNode(newItem,prev,prev.next)\n",
        "          newNode.next.prev = newNode\n",
        "          prev.next = newNode\n",
        "          self.__numItems +=1\n",
        "      else:\n",
        "          print(\"index\",i,\": out of bound in insert()\")\n",
        "\n",
        "  def append(self, newItem):\n",
        "    prev = self.__head.prev\n",
        "    newNode = BidirectNode(newItem, prev, self.__head)\n",
        "    prev.next = newNode\n",
        "    self.__head.prev = newNode\n",
        "    self.__numItems += 1\n",
        "    \n",
        "  \n",
        "  def add(self,x): #과제 적용 함수\n",
        "\n",
        "      if(self.isEmpty()==True): #리스트가 비어있다면\n",
        "          newNode = BidirectNode(x,None,None) #새로운 노드를 만들어\n",
        "          newNode.prev = self.__head #더미헤드의 바로 뒤에 연결시킴\n",
        "          self.__head.next = newNode\n",
        "          newNode.next = self.__head\n",
        "          self.__head.prev = newNode\n",
        "          self.__numItems +=1 #노드가 추가되었으므로 numItems의 값을 증가시킴\n",
        "      else: #리스트가 비어있지 않다면\n",
        "          for i in range (self.__numItems): #리스트의 모든 노드에서\n",
        "              if self.getNode(i).item <= x: #i번째 노드의 item값이 x값보다 작거나 같을 때\n",
        "                  if self.getNode(self.size()-1).item <= x: #만약 리스트의 마지막 노드의 item값이 x보다 작다면\n",
        "                      self.append(x) #list에 x를 append\n",
        "                      break;\n",
        "              elif self.getNode(i).item>=x: #i번째 노드의 item값이 x보다 크거나 같다면\n",
        "                  self.insert(i,x) #리스트의 i번째 자리에 x를 insert\n",
        "                  break;\n",
        "  \n",
        "  def pop(self, *args):\n",
        "    if self.isEmpty():\n",
        "      return None\n",
        "    if len(args)!=0:\n",
        "      i = args[0]\n",
        "    if len(args) == 0 or i == -1:\n",
        "      i = self.__numItems -1\n",
        "\n",
        "    if (i>=0 and i<=self.__numItems -1):\n",
        "      curr = self.getNode(i)\n",
        "      retItem = curr.item\n",
        "      curr.prev.next = curr.next\n",
        "      curr.next.prev = curr.prev\n",
        "      self.__numItems -= 1\n",
        "      return retItem\n",
        "    else:\n",
        "      return None\n",
        "\n",
        "  def remove(self,x):\n",
        "    curr = self.__findNode(x)\n",
        "    if curr != None:\n",
        "      curr.prev.next = curr.next\n",
        "      curr.next.prev = curr.prev\n",
        "      self.__numItems -= 1\n",
        "      return x\n",
        "    else:\n",
        "      return None\n",
        "\n",
        "  def isEmpty(self):\n",
        "    return self.__numItems == 0\n",
        "\n",
        "  def size(self):\n",
        "    return self.__numItems\n",
        "\n",
        "  def getNode(self, i):\n",
        "    curr = self.__head\n",
        "    for index in range(i+1):\n",
        "      curr = curr.next\n",
        "    return curr\n",
        "\n",
        "  def printList(self):\n",
        "    for element in self:\n",
        "      print(element, end = ' ')\n",
        "    print()\n",
        "\n",
        "  def __iter__(self):\n",
        "    return CircularDoublyLinkedListIterator(self)\n",
        "\n",
        "class CircularDoublyLinkedListIterator:\n",
        "  def __init__(self, alist):\n",
        "    self.__head = alist.getNode(-1)\n",
        "    self.iterPosition = self.__head.next\n",
        "\n",
        "  def __next__(self):\n",
        "    if self.iterPosition == self.__head:\n",
        "      raise StopIteration\n",
        "    else:\n",
        "      item = self.iterPosition.item\n",
        "      self.iterPosition = self.iterPosition.next\n",
        "      return item"
      ],
      "metadata": {
        "id": "BAHUK27-1oxM"
      },
      "execution_count": null,
      "outputs": []
    },
    {
      "cell_type": "code",
      "source": [
        "a = CircularDoublyLinkedList()\n",
        "a.add(10)\n",
        "a.add(2)\n",
        "a.add(5)\n",
        "a.add(15)\n",
        "a.add(30)\n",
        "a.add(1)\n",
        "a.add(100)\n",
        "a.printList()"
      ],
      "metadata": {
        "colab": {
          "base_uri": "https://localhost:8080/"
        },
        "id": "uW4z_bFK1sxz",
        "outputId": "f7886a85-eadf-4e7e-81cf-60520acbb1a0"
      },
      "execution_count": null,
      "outputs": [
        {
          "output_type": "stream",
          "name": "stdout",
          "text": [
            "1 2 5 10 15 30 100 \n"
          ]
        }
      ]
    },
    {
      "cell_type": "markdown",
      "source": [
        "#3"
      ],
      "metadata": {
        "id": "-z3r7-afOKay"
      }
    },
    {
      "cell_type": "code",
      "source": [
        "# linkedListBasic\n",
        "\n",
        "class ListNode:\n",
        "    def __init__(self, newItem, nextNode:'ListNode'):\n",
        "        self.item = newItem\n",
        "        self.next = nextNode\n",
        "\n",
        "class LinkedListBasic:\n",
        "    def __init__(self):\n",
        "        self.__head = ListNode('dummy', None)\n",
        "        self.__numItems = 0\n",
        "\n",
        "    def insert(self, i:int, newItem):\n",
        "        if i >= 0 and i <= self.__numItems:\n",
        "            prev = self.__getNode(i - 1)\n",
        "            newNode = ListNode(newItem, prev.next)\n",
        "            prev.next = newNode\n",
        "            self.__numItems += 1\n",
        "        else:\n",
        "            print(\"index\", i, \": out of bound in insert()\") \n",
        "\n",
        "    def pop(self, i:int):  \n",
        "        if (i >= 0 and i <= self.__numItems-1):\n",
        "            prev = self.__getNode(i - 1)\n",
        "            curr = prev.next\n",
        "            prev.next = curr.next\n",
        "            retItem = curr.item\n",
        "            self.__numItems -= 1\n",
        "            return retItem\n",
        "        else:\n",
        "            return None\n",
        "    \n",
        "    def isEmpty(self) -> bool:\n",
        "        return self.__numItems == 0\n",
        "        \n",
        "    def __getNode(self, i:int) -> ListNode:\n",
        "        curr = self.__head\n",
        "        for index in range(i+1):\n",
        "            curr = curr.next\n",
        "        return curr\n",
        "\n",
        "    def printList(self):\n",
        "        curr = self.__head.next\n",
        "        while curr != None:\n",
        "            print(curr.item, end = ' ')\n",
        "            curr = curr.next\n",
        "        print()\n",
        "    \n",
        "class LinkedStack:\n",
        "    def __init__(self):\n",
        "        self.__list = LinkedListBasic()\n",
        "\n",
        "    def push(self, newItem):\n",
        "        self.__list.insert(0, newItem)\n",
        "\n",
        "    def pop(self):\n",
        "        return self.__list.pop(0)\n",
        "\n",
        "    def top(self):\n",
        "        if self.isEmpty():\n",
        "            return None\n",
        "        else:\n",
        "            return self.__list.get(0)\n",
        "\n",
        "    def isEmpty(self) -> bool:\n",
        "        return self.__list.isEmpty()\n",
        "    \n",
        "    def parenBalance(self,s): #과제 적용 함수\n",
        "        st=LinkedStack() #빈 리스트스택을 생성\n",
        "        for i in range(len(s)): #입력받은 문자열의 크기만큼 반복\n",
        "            if \"(\" == s[i] : st.push('(') # '('가 나오면 만들어둔 스택 st에 push\n",
        "            elif \")\" == s[i]: # ')'가 나오면\n",
        "                if(st.isEmpty()==True): # st가 비어있으면 짝을 다 맞췄는데 ')'가 또 나온 것이므로\n",
        "                     return False # False\n",
        "                else: # st가 비어있지 않으면\n",
        "                    st.pop() # ')'와 짝을 맞추기 위해 '('를 pop\n",
        "#for문 종료 후\n",
        "        if(st.isEmpty()==True): # st가 비어있으면 짝이 맞은 것이므로\n",
        "            return True # True\n",
        "        else: #st가 비어있지 않다면 '('가 더 많은 것이므로\n",
        "            return False #False\n",
        "        \n",
        "    def printStack(self):\n",
        "        print(\"Stack from top:\", end = '')\n",
        "        for i in range(self.__list.size()):\n",
        "            print(self.__list.get(i), end = '')\n",
        "        print()"
      ],
      "metadata": {
        "id": "VfmiktCxOPDW"
      },
      "execution_count": null,
      "outputs": []
    },
    {
      "cell_type": "code",
      "source": [
        "t = LinkedStack()\n",
        "answer = t.parenBalance('(())')\n",
        "print(\"if test is True : \" ,answer)\n",
        "answer = t.parenBalance('(((())')\n",
        "print(\"if test if False : \", answer)"
      ],
      "metadata": {
        "colab": {
          "base_uri": "https://localhost:8080/"
        },
        "id": "g57OhSaYOfIV",
        "outputId": "53f5b751-5730-4dee-f758-d5396246ad4c"
      },
      "execution_count": null,
      "outputs": [
        {
          "output_type": "stream",
          "name": "stdout",
          "text": [
            "if test is True :  True\n",
            "if test if False :  False\n"
          ]
        }
      ]
    },
    {
      "cell_type": "markdown",
      "source": [
        "#4"
      ],
      "metadata": {
        "id": "JYvZ7-K1rdsp"
      }
    },
    {
      "cell_type": "code",
      "source": [
        "class Deque:\n",
        "  def __init__(self):\n",
        "    self.__deque=[]\n",
        "    self.__numItems=0\n",
        "\n",
        "  def enqueueFront(self,x): # 큐의 맨 앞에 삽입해야 하는 값이므로 append 대신 insert사용\n",
        "    self.__deque.insert(0,x)\n",
        "\n",
        "  def enqueueRear(self,x): # 큐의 맨 뒤에 삽입해야 하는 값이므로 append (큐의 기본 메서드)\n",
        "    self.__deque.append(x)\n",
        "\n",
        "  def dequeueFront(self): # 큐의 맨 앞 원소를 삭제하는 함수 (큐의 기본 메서드)\n",
        "    return self.__deque.pop(0)\n",
        "\n",
        "  def dequeueRear(self): #큐의 맨 뒤 원소를 삭제하는 함수 이므로 pop()에 마지막 원소를 가리키는 -1을 넣어 호출\n",
        "    return self.__deque.pop(-1)\n",
        "\n",
        "  def front(self):\n",
        "    if self.isEmpty() == True :\n",
        "      return None\n",
        "    else:\n",
        "      return self.__deque[0]\n",
        "\n",
        "  def rear(self):\n",
        "    if self.isEmpty():\n",
        "      return None\n",
        "    else:\n",
        "      return self.__deque[self.__numItems-1]\n",
        "\n",
        "  def isEmpty(self):\n",
        "    return (len(self.__deque)==0)\n",
        "\n",
        "  def printDeque(self):\n",
        "    print(\"Deque from front: \", end = ' ')\n",
        "    for i in range(len(self.__deque)):\n",
        "      print(self.__deque[i],end = ' ')\n",
        "    print()"
      ],
      "metadata": {
        "id": "ehMAhXVerfuI"
      },
      "execution_count": null,
      "outputs": []
    },
    {
      "cell_type": "code",
      "source": [
        "a = Deque()\n",
        "\n",
        "a.enqueueRear(3) #enqueueRear() test\n",
        "a.enqueueRear(5)\n",
        "a.enqueueRear(7)\n",
        "\n",
        "a.printDeque()\n",
        "\n",
        "a.enqueueFront(1) #enqueueFront() test\n",
        "a.enqueueFront(2)\n",
        "\n",
        "a.printDeque()\n",
        "\n",
        "a.dequeueFront() #dequeueFront() test\n",
        "\n",
        "a.printDeque()\n",
        "\n",
        "a.dequeueRear() #dequeueRear() test\n",
        "\n",
        "a.printDeque()\n",
        "\n",
        "print(a.front())\n",
        "print(a.rear())"
      ],
      "metadata": {
        "colab": {
          "base_uri": "https://localhost:8080/"
        },
        "id": "Ug6CM34ir7gL",
        "outputId": "31214a75-7793-4fb8-87f1-3698f8e7fa48"
      },
      "execution_count": null,
      "outputs": [
        {
          "output_type": "stream",
          "name": "stdout",
          "text": [
            "Deque from front:  3 5 7 \n",
            "Deque from front:  2 1 3 5 7 \n",
            "Deque from front:  1 3 5 7 \n",
            "Deque from front:  1 3 5 \n",
            "1\n",
            "5\n"
          ]
        }
      ]
    }
  ]
}