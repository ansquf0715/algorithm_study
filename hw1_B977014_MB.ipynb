{
  "nbformat": 4,
  "nbformat_minor": 0,
  "metadata": {
    "colab": {
      "name": " hw1_B977014_MB.ipynb",
      "provenance": [],
      "collapsed_sections": []
    },
    "kernelspec": {
      "name": "python3",
      "display_name": "Python 3"
    },
    "language_info": {
      "name": "python"
    }
  },
  "cells": [
    {
      "cell_type": "markdown",
      "source": [
        "수업시간에 했던 재귀를 이용한 피보나치"
      ],
      "metadata": {
        "id": "KtgfeIhCgyNw"
      }
    },
    {
      "cell_type": "code",
      "source": [
        "def fibo_r(n):\n",
        "  if n==1 or n==2:\n",
        "    return 1\n",
        "  else:\n",
        "    return fibo_r(n-1)+fibo_r(n-2)\n",
        "\n",
        "for i in range(1,41):\n",
        "  print(i,\":\",fibo_r(i))"
      ],
      "metadata": {
        "id": "NWSmk_-DotpS"
      },
      "execution_count": null,
      "outputs": []
    },
    {
      "cell_type": "markdown",
      "source": [
        "재귀를 이용하지 않은 피보나치1"
      ],
      "metadata": {
        "id": "3d6opvlGllLq"
      }
    },
    {
      "cell_type": "code",
      "source": [
        "def fibo_n(n):\n",
        "  a=0\n",
        "  b=1\n",
        "\n",
        "  if n==1 or n==2:\n",
        "    return b\n",
        "\n",
        "  for i in range(1,n):\n",
        "    c=a+b\n",
        "    a=b\n",
        "    b=c\n",
        "  return b\n",
        "\n",
        "for i in range(1,41):\n",
        "   print(i,\":\",fibo_n(i))"
      ],
      "metadata": {
        "id": "gArlB2ZuhELL"
      },
      "execution_count": null,
      "outputs": []
    },
    {
      "cell_type": "markdown",
      "source": [
        "참조한 사이트:\n",
        "\n",
        "https://www.geeksforgeeks.org/python-program-for-program-for-fibonacci-numbers-2/\n",
        "\n",
        "처음에는 for문 안에 if문을 넣어서 시도했는데 전체 결과값이 1로 나오는 오류가\n",
        "생겨서 구글에 검색 해 소스코드를 참고했음. if문을 밖으로 꺼내어 base case 일 때를 정한 후 실행하니 잘 됐음 그리고 for문 이후의 return문장이 for문 안에 들어있어서 for문이 실행될 때마다 a와 b값이 저장되지 않은 채로 return하게되어 모든 값이 1로 나왔음 파이썬 튜터로 디버깅 해보다가 return문장이 띄어쓰기 되어 있는걸 발견하고 빼냈더니 괜찮아 졌음"
      ],
      "metadata": {
        "id": "60u66pT1mz3S"
      }
    },
    {
      "cell_type": "markdown",
      "source": [
        "재귀를 이용하지 않은 피보나치2"
      ],
      "metadata": {
        "id": "J94JIs-PrX3v"
      }
    },
    {
      "cell_type": "code",
      "source": [
        "def fibo_n2(n):\n",
        "  numbers=[]\n",
        "  numbers.append(0)\n",
        "  numbers.append(1)\n",
        "  \n",
        "  if n==1:\n",
        "    return numbers[1]\n",
        "  \n",
        "  for i in range(2,n+1):\n",
        "    numbers.append(numbers[i-1]+numbers[i-2])\n",
        "  return numbers[n]\n",
        "\n",
        "for i in range(1,11):\n",
        "  print(i,\":\",fibo_n2(i))"
      ],
      "metadata": {
        "id": "udwqc4NGmlFZ"
      },
      "execution_count": null,
      "outputs": []
    },
    {
      "cell_type": "markdown",
      "source": [
        "위에서 했던 로직이 구글에서 발견한 코드와 너무 같아져버려서 책에 나온 슈도코드를 기반으로 배열을 이용해 다시 로직을 만들어봄."
      ],
      "metadata": {
        "id": "6HX8HfzWrboT"
      }
    },
    {
      "cell_type": "markdown",
      "source": [
        "수업에서 다뤘던 내용처럼 재귀를 이용한 코드의 경우 30까지는 무리가 없이 진행됨.\n",
        "그러나 n이 40정도가 되는 순간부터 시간이 체감을 할 수 있을 정도로 느려지기 시작하지만\n",
        "재귀를 사용하지 않고 반복문을 사용하면 적당한 숫자에서는 체감상으로 3초를 넘기지 않고 실행 됨."
      ],
      "metadata": {
        "id": "RB-NOKjkswO0"
      }
    },
    {
      "cell_type": "markdown",
      "source": [
        "재귀를 이용한 하노이탑 코드"
      ],
      "metadata": {
        "id": "YWhcLMXbsxn6"
      }
    },
    {
      "cell_type": "code",
      "source": [
        "def move(n,a,b,c):\n",
        "  if n==1:\n",
        "    return 1\n",
        "\n",
        "  count=0\n",
        "  count+=move(n-1,a,c,b)\n",
        "  count+=1\n",
        "  count+=move(n-1,c,b,a)\n",
        "\n",
        "  return count\n",
        "\n",
        "move(5,'source','dest','temp')"
      ],
      "metadata": {
        "id": "Af4fh1OQpLB4"
      },
      "execution_count": null,
      "outputs": []
    },
    {
      "cell_type": "markdown",
      "source": [
        "강의록에 있는 슈도코드를 참고해서 코딩을 했을 때 count의 값이 제대로 전달되지 않아 1로만 출력이 되어, 파이썬 튜터를 사용해 디버깅하면서 실행하는데 함수를 호출 할 때에 count 값이 0으로 초기화 되어(count=0 부분을 만나면서 초기화 되는듯 보였음) 뒷부분에 +1을 만나면서 출력 결과가 1로만 표시됨. 검색을 통해 count 변수에 move를 저장한 걸 보고 고치니 정상적으로 작동했음. move 함수는 결과적으로 count 값을 return 하므로 자기 자신을 호출할 때에 생기는 move의 return값을 count에 저장하며 계속 더한 후에 마지막으로 count값을 return 해줌.\n",
        "\n",
        "참조한 사이트:\n",
        "https://keoroo.tistory.com/66"
      ],
      "metadata": {
        "id": "iazH5voU7_5i"
      }
    }
  ]
}