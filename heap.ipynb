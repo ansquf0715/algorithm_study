{
  "nbformat": 4,
  "nbformat_minor": 0,
  "metadata": {
    "colab": {
      "name": "heap.ipynb",
      "provenance": []
    },
    "kernelspec": {
      "name": "python3",
      "display_name": "Python 3"
    },
    "language_info": {
      "name": "python"
    }
  },
  "cells": [
    {
      "cell_type": "code",
      "execution_count": 12,
      "metadata": {
        "id": "DQ644ZuHtL_p"
      },
      "outputs": [],
      "source": [
        "class Heap:\n",
        "\tdef __init__(self, *args):\n",
        "\t\tif len(args) != 0:\n",
        "\t\t\tself.__A = args[0] # 패러미터가 있는 경우, 리스트를 첫번째 인자로 받음\n",
        "\t\telse:\n",
        "\t\t\tself.__A = [] # 패러미터가 없는 경우, 빈 리스트를 생성\n",
        " \n",
        "\t# [알고리즘 8-2] 구현: 힙에 원소 삽입하기(재귀 알고리즘 버전)\n",
        "\tdef insert(self, x):\n",
        "\t\tself.__A.append(x)\n",
        "\t\tself.__percolateUp(len(self.__A)-1)\n",
        "\n",
        "\t# 스며오르기\n",
        "\tdef __percolateUp(self, i:int):\n",
        "\t\tparent = (i - 1) // 2  # floor division (몫)\n",
        "\t\tif i > 0 and self.__A[i] > self.__A[parent]:\n",
        "\t\t\tself.__A[i], self.__A[parent] = self.__A[parent], self.__A[i] # swap\n",
        "\t\t\tself.__percolateUp(parent) # 재귀 호출\n",
        "\n",
        "\t# [알고리즘 8-2] 구현: 힙에서 원소 삭제하기\n",
        "\tdef deleteMax(self):\n",
        "\t\t# heap is in self.__A[0...len(self.__A)-1]\n",
        "\t\tif (not self.isEmpty()):\n",
        "\t\t\tmax = self.__A[0]  # 루트 값이 최대값\n",
        "\t\t\tself.__A[0] = self.__A.pop() # 리스트의 마지막 원소를 꺼내서 루트 자리에 대입\n",
        "\t\t\tself.__percolateDown(0)  # 스며 내리기 연산으로 자기 자리를 찾기\n",
        "\t\t\treturn max\n",
        "\t\telse:\n",
        "\t\t\treturn None\n",
        "\n",
        "\t# 스며내리기\n",
        "\tdef __percolateDown(self, i:int):\n",
        "\t\t# Percolate down w/ self.__A[i] as the root\n",
        "\t\tchild = 2 * i + 1  # index of left child \n",
        "\t\tright = 2 * i + 2  # index of right child\n",
        "\t\tif (child <= len(self.__A)-1):\n",
        "\t\t\tif (right <= len(self.__A)-1 and self.__A[child] < self.__A[right]):\n",
        "\t\t\t\tchild = right  # index of larger child\n",
        "\t\t\tif self.__A[i] < self.__A[child]:\n",
        "\t\t\t\tself.__A[i], self.__A[child] = self.__A[child], self.__A[i] # swap\n",
        "\t\t\t\tself.__percolateDown(child) # 재귀 호출\n",
        "\n",
        "\tdef max(self):\n",
        "\t\treturn self.__A[0]  # 루트 노드 값을 반환\n",
        "\n",
        "\t# 힙 만들기 (Heapify)\n",
        "\tdef buildHeap(self):  \n",
        "\t\tfor i in range((len(self.__A) - 2) // 2, -1, -1):  # 중간 인덱스부터 루트까지 반복\n",
        "\t\t\tself.__percolateDown(i)\n",
        "\n",
        "\t# 힙이 비었는지 확인하기\n",
        "\tdef isEmpty(self) -> bool:\n",
        "\t\treturn len(self.__A) == 0  \n",
        "\n",
        "\tdef clear(self):\n",
        "\t\tself.__A = []  \n",
        "\n",
        "\tdef size(self) -> int:\n",
        "\t\treturn len(self.__A)\n",
        "\t\n",
        "\tdef heapPrint(self):\n",
        "\t\tpass\n",
        "\n",
        "# 코드 8-8"
      ]
    },
    {
      "cell_type": "code",
      "source": [
        "#from heap import *\n",
        "\n",
        "# print('Heap!')\n",
        "h1 = Heap([1, 11, 9, 2, 3])\n",
        "h1.buildHeap()\n",
        "h1.clear()\n",
        "# h1.heapPrint()\n",
        "h1.insert(7)\n",
        "h1.insert(5)\n",
        "h1.insert(9)\n",
        "h1.insert(4)\n",
        "h1.insert(11)\n",
        "h1.insert(19)\n",
        "h1.insert(20)\n",
        "h1.insert(21)\n",
        "h1.insert(11)\n",
        "# h1.heapPrint()\n",
        "h1.deleteMax()\n",
        "# h1.heapPrint()\n",
        "\n",
        "# 코드 8-9"
      ],
      "metadata": {
        "id": "VBXEkUTytR6x"
      },
      "execution_count": null,
      "outputs": []
    }
  ]
}