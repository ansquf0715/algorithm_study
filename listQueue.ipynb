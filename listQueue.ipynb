{
  "nbformat": 4,
  "nbformat_minor": 0,
  "metadata": {
    "colab": {
      "name": "listQueue.ipynb",
      "provenance": [],
      "collapsed_sections": []
    },
    "kernelspec": {
      "name": "python3",
      "display_name": "Python 3"
    },
    "language_info": {
      "name": "python"
    }
  },
  "cells": [
    {
      "cell_type": "code",
      "execution_count": 4,
      "metadata": {
        "id": "uIadtjcYwA2d"
      },
      "outputs": [],
      "source": [
        "class ListQueue:\n",
        "\tdef __init__(self):\n",
        "\t\tself.__queue = []\n",
        "\n",
        "\tdef enqueue(self, x):\n",
        "\t\tself.__queue.append(x)\n",
        "\n",
        "\tdef dequeue(self):\n",
        "\t\treturn self.__queue.pop(0) # .pop(0): 리스트의 첫 원소를 삭제한 후 원소 리턴\n",
        "\n",
        "\tdef front(self):\n",
        "\t\tif self.isEmpty():\n",
        "\t\t\treturn None\n",
        "\t\telse:\n",
        "\t\t\treturn self.__queue[0]\n",
        "\n",
        "\tdef isEmpty(self) -> bool:\n",
        "\t\treturn (len(self.__queue) == 0);\n",
        " \n",
        "\tdef dequeueAll(self):\n",
        "\t\tself.__queue.clear()\n",
        "\n",
        "\tdef printQueue(self):\n",
        "\t\tprint(\"Queue from front:\", end = ' ')\n",
        "\t\tfor i in range(len(self.__queue)):\n",
        "\t\t\tprint(self.__queue[i], end = ' ')\n",
        "\t\tprint()\n"
      ]
    },
    {
      "cell_type": "code",
      "source": [
        "q1 = ListQueue()\n",
        "q1.enqueue(\"Mon\")\n",
        "q1.enqueue(\"Tue\")\n",
        "q1.enqueue(1234)\n",
        "q1.enqueue(\"Wed\")\n",
        "q1.dequeue()\n",
        "q1.enqueue('aaa')\n",
        "q1.printQueue()"
      ],
      "metadata": {
        "id": "WKcxPudSyg4u"
      },
      "execution_count": null,
      "outputs": []
    }
  ]
}